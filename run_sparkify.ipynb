{
 "cells": [
  {
   "cell_type": "code",
   "execution_count": 1,
   "id": "18ff034d",
   "metadata": {},
   "outputs": [
    {
     "data": {
      "application/vnd.jupyter.widget-view+json": {
       "model_id": "5aa73022749042709db4e79cef5cae82",
       "version_major": 2,
       "version_minor": 0
      },
      "text/plain": [
       "VBox()"
      ]
     },
     "metadata": {},
     "output_type": "display_data"
    },
    {
     "name": "stdout",
     "output_type": "stream",
     "text": [
      "Starting Spark application\n"
     ]
    },
    {
     "data": {
      "text/html": [
       "<table>\n",
       "<tr><th>ID</th><th>YARN Application ID</th><th>Kind</th><th>State</th><th>Spark UI</th><th>Driver log</th><th>Current session?</th></tr><tr><td>5</td><td>application_1623898302873_0006</td><td>pyspark</td><td>idle</td><td><a target=\"_blank\" href=\"http://ip-172-31-34-83.us-east-2.compute.internal:20888/proxy/application_1623898302873_0006/\">Link</a></td><td><a target=\"_blank\" href=\"http://ip-172-31-44-110.us-east-2.compute.internal:8042/node/containerlogs/container_1623898302873_0006_01_000001/livy\">Link</a></td><td>✔</td></tr></table>"
      ],
      "text/plain": [
       "<IPython.core.display.HTML object>"
      ]
     },
     "metadata": {},
     "output_type": "display_data"
    },
    {
     "data": {
      "application/vnd.jupyter.widget-view+json": {
       "model_id": "",
       "version_major": 2,
       "version_minor": 0
      },
      "text/plain": [
       "FloatProgress(value=0.0, bar_style='info', description='Progress:', layout=Layout(height='25px', width='50%'),…"
      ]
     },
     "metadata": {},
     "output_type": "display_data"
    },
    {
     "name": "stdout",
     "output_type": "stream",
     "text": [
      "SparkSession available as 'spark'.\n"
     ]
    },
    {
     "data": {
      "application/vnd.jupyter.widget-view+json": {
       "model_id": "",
       "version_major": 2,
       "version_minor": 0
      },
      "text/plain": [
       "FloatProgress(value=0.0, bar_style='info', description='Progress:', layout=Layout(height='25px', width='50%'),…"
      ]
     },
     "metadata": {},
     "output_type": "display_data"
    }
   ],
   "source": [
    "import pyspark\n",
    "from functools import reduce\n",
    "from pyspark import SparkContext, SparkConf\n",
    "from pyspark.sql import SparkSession, Window, DataFrame\n",
    "from pyspark.sql.types import IntegerType, StringType\n",
    "from pyspark.sql.functions import (sum as Fsum, min as Fmin, max as Fmax,\n",
    "                                   col, when, isnull, mean,\n",
    "                                   count, desc, asc, regexp_replace,\n",
    "                                   udf, trim, lower, avg)\n",
    "from pyspark.ml import Pipeline, Transformer\n",
    "from pyspark.ml.feature import (OneHotEncoder,\n",
    "                                StringIndexer, VectorAssembler,\n",
    "                                MinMaxScaler)\n",
    "from pyspark.ml.classification import GBTClassifier, LogisticRegression\n",
    "from pyspark.ml.feature import StringIndexer, VectorIndexer\n",
    "from pyspark.ml.evaluation import MulticlassClassificationEvaluator\n",
    "from pyspark.ml.tuning import CrossValidator, ParamGridBuilder\n",
    "\n",
    "import numpy as np\n",
    "\n",
    "from functools import partial\n",
    "from typing import Iterable"
   ]
  },
  {
   "cell_type": "code",
   "execution_count": 2,
   "id": "9784e707",
   "metadata": {},
   "outputs": [
    {
     "data": {
      "application/vnd.jupyter.widget-view+json": {
       "model_id": "8de5ef1ddbc84e24b35ce755da22984e",
       "version_major": 2,
       "version_minor": 0
      },
      "text/plain": [
       "VBox()"
      ]
     },
     "metadata": {},
     "output_type": "display_data"
    },
    {
     "data": {
      "application/vnd.jupyter.widget-view+json": {
       "model_id": "",
       "version_major": 2,
       "version_minor": 0
      },
      "text/plain": [
       "FloatProgress(value=0.0, bar_style='info', description='Progress:', layout=Layout(height='25px', width='50%'),…"
      ]
     },
     "metadata": {},
     "output_type": "display_data"
    }
   ],
   "source": [
    "spark = SparkSession.builder.appName(\"Sparkify\").getOrCreate()"
   ]
  },
  {
   "cell_type": "code",
   "execution_count": 3,
   "id": "2e5c2ce9",
   "metadata": {},
   "outputs": [
    {
     "data": {
      "text/html": [
       "Current session configs: <tt>{'conf': {'spark.pyspark.python': 'python3', 'spark.pyspark.virtualenv.enabled': 'true', 'spark.pyspark.virtualenv.type': 'native', 'spark.pyspark.virtualenv.bin.path': '/usr/bin/virtualenv'}, 'kind': 'pyspark'}</tt><br>"
      ],
      "text/plain": [
       "<IPython.core.display.HTML object>"
      ]
     },
     "metadata": {},
     "output_type": "display_data"
    },
    {
     "data": {
      "text/html": [
       "<table>\n",
       "<tr><th>ID</th><th>YARN Application ID</th><th>Kind</th><th>State</th><th>Spark UI</th><th>Driver log</th><th>Current session?</th></tr><tr><td>5</td><td>application_1623898302873_0006</td><td>pyspark</td><td>idle</td><td><a target=\"_blank\" href=\"http://ip-172-31-34-83.us-east-2.compute.internal:20888/proxy/application_1623898302873_0006/\">Link</a></td><td><a target=\"_blank\" href=\"http://ip-172-31-44-110.us-east-2.compute.internal:8042/node/containerlogs/container_1623898302873_0006_01_000001/livy\">Link</a></td><td>✔</td></tr></table>"
      ],
      "text/plain": [
       "<IPython.core.display.HTML object>"
      ]
     },
     "metadata": {},
     "output_type": "display_data"
    }
   ],
   "source": [
    "%%info"
   ]
  },
  {
   "cell_type": "code",
   "execution_count": 4,
   "id": "bffbca11",
   "metadata": {},
   "outputs": [
    {
     "data": {
      "application/vnd.jupyter.widget-view+json": {
       "model_id": "567b32d48d5c46609aad7b0242ff1bab",
       "version_major": 2,
       "version_minor": 0
      },
      "text/plain": [
       "VBox()"
      ]
     },
     "metadata": {},
     "output_type": "display_data"
    },
    {
     "data": {
      "application/vnd.jupyter.widget-view+json": {
       "model_id": "",
       "version_major": 2,
       "version_minor": 0
      },
      "text/plain": [
       "FloatProgress(value=0.0, bar_style='info', description='Progress:', layout=Layout(height='25px', width='50%'),…"
      ]
     },
     "metadata": {},
     "output_type": "display_data"
    }
   ],
   "source": [
    "#spark.sparkContext.list_packages()"
   ]
  },
  {
   "cell_type": "code",
   "execution_count": 5,
   "id": "86c20f1e",
   "metadata": {},
   "outputs": [
    {
     "data": {
      "application/vnd.jupyter.widget-view+json": {
       "model_id": "e8dc9d7692f14cd9ab0759458493689e",
       "version_major": 2,
       "version_minor": 0
      },
      "text/plain": [
       "VBox()"
      ]
     },
     "metadata": {},
     "output_type": "display_data"
    },
    {
     "data": {
      "application/vnd.jupyter.widget-view+json": {
       "model_id": "",
       "version_major": 2,
       "version_minor": 0
      },
      "text/plain": [
       "FloatProgress(value=0.0, bar_style='info', description='Progress:', layout=Layout(height='25px', width='50%'),…"
      ]
     },
     "metadata": {},
     "output_type": "display_data"
    },
    {
     "name": "stdout",
     "output_type": "stream",
     "text": [
      "Collecting pandas\n",
      "  Using cached https://files.pythonhosted.org/packages/51/51/48f3fc47c4e2144da2806dfb6629c4dd1fa3d5a143f9652b141e979a8ca9/pandas-1.2.4-cp37-cp37m-manylinux1_x86_64.whl\n",
      "Requirement already satisfied: numpy>=1.16.5 in /usr/local/lib64/python3.7/site-packages (from pandas)\n",
      "Requirement already satisfied: pytz>=2017.3 in /usr/local/lib/python3.7/site-packages (from pandas)\n",
      "Collecting python-dateutil>=2.7.3 (from pandas)\n",
      "  Using cached https://files.pythonhosted.org/packages/d4/70/d60450c3dd48ef87586924207ae8907090de0b306af2bce5d134d78615cb/python_dateutil-2.8.1-py2.py3-none-any.whl\n",
      "Requirement already satisfied: six>=1.5 in /usr/local/lib/python3.7/site-packages (from python-dateutil>=2.7.3->pandas)\n",
      "Installing collected packages: python-dateutil, pandas\n",
      "Successfully installed pandas-1.2.4 python-dateutil-2.8.1\n",
      "\n",
      "Collecting matplotlib\n",
      "  Using cached https://files.pythonhosted.org/packages/24/33/5568d443ba438d95d4db635dd69958056f087e57e1026bee56f959d53f9d/matplotlib-3.4.2-cp37-cp37m-manylinux1_x86_64.whl\n",
      "Requirement already satisfied: numpy>=1.16 in /usr/local/lib64/python3.7/site-packages (from matplotlib)\n",
      "Collecting pyparsing>=2.2.1 (from matplotlib)\n",
      "  Using cached https://files.pythonhosted.org/packages/8a/bb/488841f56197b13700afd5658fc279a2025a39e22449b7cf29864669b15d/pyparsing-2.4.7-py2.py3-none-any.whl\n",
      "Requirement already satisfied: python-dateutil>=2.7 in /mnt/tmp/1623907514838-0/lib/python3.7/site-packages (from matplotlib)\n",
      "Collecting pillow>=6.2.0 (from matplotlib)\n",
      "  Using cached https://files.pythonhosted.org/packages/33/34/542152297dcc6c47a9dcb0685eac6d652d878ed3cea83bf2b23cb988e857/Pillow-8.2.0-cp37-cp37m-manylinux1_x86_64.whl\n",
      "Collecting cycler>=0.10 (from matplotlib)\n",
      "  Using cached https://files.pythonhosted.org/packages/f7/d2/e07d3ebb2bd7af696440ce7e754c59dd546ffe1bbe732c8ab68b9c834e61/cycler-0.10.0-py2.py3-none-any.whl\n",
      "Collecting kiwisolver>=1.0.1 (from matplotlib)\n",
      "  Using cached https://files.pythonhosted.org/packages/d2/46/231de802ade4225b76b96cffe419cf3ce52bbe92e3b092cf12db7d11c207/kiwisolver-1.3.1-cp37-cp37m-manylinux1_x86_64.whl\n",
      "Requirement already satisfied: six>=1.5 in /usr/local/lib/python3.7/site-packages (from python-dateutil>=2.7->matplotlib)\n",
      "Installing collected packages: pyparsing, pillow, cycler, kiwisolver, matplotlib\n",
      "Successfully installed cycler-0.10.0 kiwisolver-1.3.1 matplotlib-3.4.2 pillow-8.2.0 pyparsing-2.4.7"
     ]
    }
   ],
   "source": [
    "sc.install_pypi_package(\"pandas\")\n",
    "sc.install_pypi_package(\"matplotlib\")"
   ]
  },
  {
   "cell_type": "code",
   "execution_count": 6,
   "id": "4a6bd6b1",
   "metadata": {},
   "outputs": [
    {
     "data": {
      "application/vnd.jupyter.widget-view+json": {
       "model_id": "e6926535a71649c18f72011909fe1e59",
       "version_major": 2,
       "version_minor": 0
      },
      "text/plain": [
       "VBox()"
      ]
     },
     "metadata": {},
     "output_type": "display_data"
    },
    {
     "data": {
      "application/vnd.jupyter.widget-view+json": {
       "model_id": "",
       "version_major": 2,
       "version_minor": 0
      },
      "text/plain": [
       "FloatProgress(value=0.0, bar_style='info', description='Progress:', layout=Layout(height='25px', width='50%'),…"
      ]
     },
     "metadata": {},
     "output_type": "display_data"
    }
   ],
   "source": [
    "import pandas as pd\n",
    "import matplotlib.pyplot as plt"
   ]
  },
  {
   "cell_type": "code",
   "execution_count": 7,
   "id": "38cf00f0",
   "metadata": {},
   "outputs": [
    {
     "data": {
      "application/vnd.jupyter.widget-view+json": {
       "model_id": "ab2bfec5da114d9f9a9cfffd4ffbe448",
       "version_major": 2,
       "version_minor": 0
      },
      "text/plain": [
       "VBox()"
      ]
     },
     "metadata": {},
     "output_type": "display_data"
    },
    {
     "data": {
      "application/vnd.jupyter.widget-view+json": {
       "model_id": "",
       "version_major": 2,
       "version_minor": 0
      },
      "text/plain": [
       "FloatProgress(value=0.0, bar_style='info', description='Progress:', layout=Layout(height='25px', width='50%'),…"
      ]
     },
     "metadata": {},
     "output_type": "display_data"
    }
   ],
   "source": [
    "class SqlFeatureEngineer(Transformer):\n",
    "    \"\"\"\n",
    "    Custom Transform to feature engineer using a SQL query\n",
    "    \"\"\"\n",
    "\n",
    "    def __init__(self, table_name: str, agents: Iterable[str]):\n",
    "        super(SqlFeatureEngineer, self).__init__()\n",
    "        self.table_name = table_name\n",
    "        \n",
    "        sum_UA = \"\".join(\"\\n        ,SUM(%s) as num_%s_interactions\" % (agent, agent) for agent in agents)\n",
    "        avg_UA = \"\".join(\"\\n    ,AVG(sess.num_%s_interactions) as avg_%s_interactions\" % (agent, agent) for agent in agents)\n",
    "\n",
    "        session_query_select = \"\"\"SELECT \n",
    "            sess.userId\n",
    "            ,AVG(sess.num_items_in_session) as avg_num_items_in_session\n",
    "            ,MAX(sess.longest_song_in_session) as longest_song\n",
    "            ,AVG(sess.longest_song_in_session) as longest_song_per_session\n",
    "            ,COUNT(sess.sessionId) as total_number_of_sessions\n",
    "            ,SUM(sess.session_listening_time)/COUNT(sess.sessionId) as listening_time_per_session\n",
    "            ,SUM(sess.number_of_songs)/COUNT(sess.sessionId) as avg_number_of_songs_per_session\n",
    "            ,CASE\n",
    "                WHEN SUM(sess.number_of_songs) <= 0 THEN 0\n",
    "                ELSE SUM(sess.session_listening_time)/SUM(sess.number_of_songs)\n",
    "            END as avg_song_length\n",
    "            ,AVG(sess.session_length) as avg_session_length\n",
    "            ,MAX(sess.session_end)-MIN(sess.registration) as time_since_joined\n",
    "            ,MIN(sess.session_begin)-MIN(sess.registration) as time_to_first_session \n",
    "            ,CASE\n",
    "                WHEN COUNT(sess.sessionId) <= 1 THEN 0\n",
    "                ELSE ((MAX(sess.session_end)-MIN(sess.session_begin)) - SUM(sess.session_length))/(COUNT(sess.sessionId)-1)\n",
    "            END as avg_time_between_sessions\n",
    "            ,AVG(sess.gender_F) as avg_gender_F\n",
    "            ,AVG(sess.gender_M) as avg_gender_M\n",
    "            ,AVG(sess.gender_Unknown) as avg_gender_Unknown\n",
    "            ,AVG(sess.status_200) as avg_status_200\n",
    "            ,AVG(sess.status_307) as avg_status_307\n",
    "            ,AVG(sess.status_404) as avg_status_404\n",
    "            ,AVG(sess.num_paid_interactions) as avg_num_paid_interactions\n",
    "            ,AVG(sess.num_free_interactions) as avg_num_free_interactions\n",
    "            ,AVG(sess.num_put_interactions) as avg_num_put_interactions\n",
    "            ,AVG(sess.num_get_interactions) as avg_num_get_interactions\n",
    "            ,AVG(sess.num_nextsong_clicks) as avg_num_nextsong_clicks\n",
    "            ,AVG(sess.num_thumbsup_clicks) as avg_num_thumbsup_clicks\n",
    "            ,AVG(sess.num_home_visits) as avg_num_home_visits\n",
    "            ,AVG(sess.num_addtoplaylist_clicks) as avg_num_addtoplaylist_clicks\n",
    "            ,AVG(sess.num_addfriend_clicks) as avg_num_addfriend_clicks\n",
    "            ,AVG(sess.num_rolladvert_visits) as avg_num_rolladvert_visits\n",
    "            ,AVG(sess.num_logout_visits) as avg_num_logout_visits\n",
    "            ,AVG(sess.num_thumbsdown_clicks) as avg_num_thumbsdown_clicks\n",
    "            ,AVG(sess.num_downgrade_visits) as avg_num_downgrade_visits\n",
    "            ,AVG(sess.num_settings_visits) as avg_num_settings_visits\n",
    "            ,AVG(sess.num_help_visits) as avg_num_help_visits\n",
    "            ,AVG(sess.num_upgrade_visits) as avg_num_upgrade_visits\n",
    "            ,AVG(sess.num_about_visits) as avg_num_about_visits\n",
    "            ,AVG(sess.num_savesettings_clicks) as avg_num_savesettings_clicks\n",
    "            ,AVG(sess.num_errors) as avg_num_errors\n",
    "            ,AVG(sess.num_upgrades) as avg_num_upgrades\n",
    "            ,AVG(sess.num_downgrades) as avg_num_downgrades\n",
    "            --,AVG(sess.num_cancel_visits) as avg_num_cancel_visits\n",
    "            ,MAX(sess.cancelled) as cancelled\"\"\"\n",
    "\n",
    "        session_query_from = \"\"\"\n",
    "        FROM (\n",
    "            SELECT \n",
    "                userId\n",
    "                ,sessionId\n",
    "                ,MAX(itemInSession) as num_items_in_session\n",
    "                ,CASE WHEN MAX(length) IS NULL THEN 0 ELSE MAX(length) END as longest_song_in_session\n",
    "                ,CASE WHEN SUM(length) IS NULL THEN 0 ELSE SUM(length) END as session_listening_time\n",
    "                ,CASE WHEN COUNT(song) IS NULL THEN 0 ELSE COUNT(song) END as number_of_songs\n",
    "                ,min(ts) as session_begin\n",
    "                ,max(ts) as session_end\n",
    "                ,max(ts) - min(ts) as session_length\n",
    "                ,CASE WHEN MIN(registration) IS NULL THEN MIN(ts) ELSE MIN(registration) END as registration\n",
    "                ,MAX(cancelled) as cancelled\n",
    "                ,MAX(gender_F) as gender_F\n",
    "                ,MAX(gender_M) as gender_M\n",
    "                ,MAX(gender_Unknown) as gender_Unknown\n",
    "                ,SUM(status_200) as status_200\n",
    "                ,SUM(status_307) as status_307\n",
    "                ,SUM(status_404) as status_404\n",
    "                ,SUM(level_paid) as num_paid_interactions\n",
    "                ,SUM(level_free) as num_free_interactions\n",
    "                ,SUM(method_PUT) as num_put_interactions\n",
    "                ,SUM(method_GET) as num_get_interactions\n",
    "                ,SUM(page_NextSong) as num_nextsong_clicks\n",
    "                ,SUM(`page_Thumbs Up`) as num_thumbsup_clicks\n",
    "                ,SUM(page_Home) as num_home_visits\n",
    "                ,SUM(`page_Add to Playlist`) as num_addtoplaylist_clicks\n",
    "                ,SUM(`page_Add Friend`) as num_addfriend_clicks\n",
    "                ,SUM(`page_Roll Advert`) as num_rolladvert_visits\n",
    "                ,SUM(page_Logout) as num_logout_visits\n",
    "                ,SUM(`page_Thumbs Down`) as num_thumbsdown_clicks\n",
    "                ,SUM(page_Downgrade) as num_downgrade_visits\n",
    "                ,SUM(page_Settings) as num_settings_visits\n",
    "                ,SUM(page_Help) as num_help_visits\n",
    "                ,SUM(page_Upgrade) as num_upgrade_visits\n",
    "                ,SUM(page_About) as num_about_visits\n",
    "                ,SUM(`page_Save Settings`) as num_savesettings_clicks\n",
    "                ,SUM(page_Error) as num_errors\n",
    "                ,SUM(`page_Submit Upgrade`) as num_upgrades\n",
    "                ,SUM(`page_Submit Downgrade`) as num_downgrades\n",
    "                ,SUM(page_Cancel) as num_cancel_visits\"\"\" \n",
    "\n",
    "        session_query = session_query_select + avg_UA + session_query_from + sum_UA + \"\"\"\n",
    "            FROM \"\"\" + self.table_name + \"\"\"\n",
    "            GROUP BY\n",
    "                userId,\n",
    "                sessionId\n",
    "        ) as sess\n",
    "        GROUP BY\n",
    "            userId\n",
    "        \"\"\"\n",
    "        \n",
    "        self.query = session_query\n",
    "\n",
    "    def _transform(self, df: DataFrame) -> DataFrame:\n",
    "        df.createOrReplaceTempView(self.table_name)\n",
    "        summary = spark.sql(self.query)\n",
    "        return summary"
   ]
  },
  {
   "cell_type": "code",
   "execution_count": 8,
   "id": "44fd5795",
   "metadata": {},
   "outputs": [
    {
     "data": {
      "application/vnd.jupyter.widget-view+json": {
       "model_id": "ca5fc1fe139644258236082e43c06344",
       "version_major": 2,
       "version_minor": 0
      },
      "text/plain": [
       "VBox()"
      ]
     },
     "metadata": {},
     "output_type": "display_data"
    },
    {
     "data": {
      "application/vnd.jupyter.widget-view+json": {
       "model_id": "",
       "version_major": 2,
       "version_minor": 0
      },
      "text/plain": [
       "FloatProgress(value=0.0, bar_style='info', description='Progress:', layout=Layout(height='25px', width='50%'),…"
      ]
     },
     "metadata": {},
     "output_type": "display_data"
    }
   ],
   "source": [
    "# ### Step 2: Load and Clean Dataset\n",
    "\n",
    "# Load the dataset from the AWS S3 bucket.\n",
    "path = \"s3n://udacity-dsnd/sparkify/sparkify_event_data.json\"\n",
    "user_log = spark.read.json(path)"
   ]
  },
  {
   "cell_type": "code",
   "execution_count": 9,
   "id": "4aa02f84",
   "metadata": {},
   "outputs": [
    {
     "data": {
      "application/vnd.jupyter.widget-view+json": {
       "model_id": "6951c049f8414558a542382a82de129f",
       "version_major": 2,
       "version_minor": 0
      },
      "text/plain": [
       "VBox()"
      ]
     },
     "metadata": {},
     "output_type": "display_data"
    },
    {
     "data": {
      "application/vnd.jupyter.widget-view+json": {
       "model_id": "",
       "version_major": 2,
       "version_minor": 0
      },
      "text/plain": [
       "FloatProgress(value=0.0, bar_style='info', description='Progress:', layout=Layout(height='25px', width='50%'),…"
      ]
     },
     "metadata": {},
     "output_type": "display_data"
    }
   ],
   "source": [
    "#user_log.select([count(when(col(c) == \"\", c).when(isnull(c), c)).alias(c) for c in user_log.columns]).show()"
   ]
  },
  {
   "cell_type": "code",
   "execution_count": 10,
   "id": "0308fd32",
   "metadata": {},
   "outputs": [
    {
     "data": {
      "application/vnd.jupyter.widget-view+json": {
       "model_id": "499a11463b98473bb20b962a7d45373b",
       "version_major": 2,
       "version_minor": 0
      },
      "text/plain": [
       "VBox()"
      ]
     },
     "metadata": {},
     "output_type": "display_data"
    },
    {
     "data": {
      "application/vnd.jupyter.widget-view+json": {
       "model_id": "",
       "version_major": 2,
       "version_minor": 0
      },
      "text/plain": [
       "FloatProgress(value=0.0, bar_style='info', description='Progress:', layout=Layout(height='25px', width='50%'),…"
      ]
     },
     "metadata": {},
     "output_type": "display_data"
    }
   ],
   "source": [
    "# There are missing values in userid and sessionid, so need to drop.\n",
    "# Blank userIds are disguised as empty strings\n",
    "user_log = user_log.dropna(how = \"any\", subset = [\"userId\", \"sessionId\"])\n",
    "user_log = user_log.filter(user_log.userId != '')"
   ]
  },
  {
   "cell_type": "code",
   "execution_count": 11,
   "id": "9e9ca593",
   "metadata": {},
   "outputs": [
    {
     "data": {
      "application/vnd.jupyter.widget-view+json": {
       "model_id": "b85040b8ac3048d49f9f34b2fe719e5e",
       "version_major": 2,
       "version_minor": 0
      },
      "text/plain": [
       "VBox()"
      ]
     },
     "metadata": {},
     "output_type": "display_data"
    },
    {
     "data": {
      "application/vnd.jupyter.widget-view+json": {
       "model_id": "",
       "version_major": 2,
       "version_minor": 0
      },
      "text/plain": [
       "FloatProgress(value=0.0, bar_style='info', description='Progress:', layout=Layout(height='25px', width='50%'),…"
      ]
     },
     "metadata": {},
     "output_type": "display_data"
    }
   ],
   "source": [
    "#user_log.select([count(when(col(c) == \"\", c).when(isnull(c), c)).alias(c) for c in user_log.columns]).show()"
   ]
  },
  {
   "cell_type": "code",
   "execution_count": 12,
   "id": "5cb41b7c",
   "metadata": {},
   "outputs": [
    {
     "data": {
      "application/vnd.jupyter.widget-view+json": {
       "model_id": "ca562f5ef6494db4902bd2b6664ad92e",
       "version_major": 2,
       "version_minor": 0
      },
      "text/plain": [
       "VBox()"
      ]
     },
     "metadata": {},
     "output_type": "display_data"
    },
    {
     "data": {
      "application/vnd.jupyter.widget-view+json": {
       "model_id": "",
       "version_major": 2,
       "version_minor": 0
      },
      "text/plain": [
       "FloatProgress(value=0.0, bar_style='info', description='Progress:', layout=Layout(height='25px', width='50%'),…"
      ]
     },
     "metadata": {},
     "output_type": "display_data"
    }
   ],
   "source": [
    "# Adjust the timestamp format from miliseconds to seconds for\n",
    "# convenience\n",
    "user_log = user_log.withColumn('ts', col('ts')/1000)\n",
    "user_log = user_log.withColumn('registration', col('registration')/1000)"
   ]
  },
  {
   "cell_type": "code",
   "execution_count": 13,
   "id": "a9a80534",
   "metadata": {},
   "outputs": [
    {
     "data": {
      "application/vnd.jupyter.widget-view+json": {
       "model_id": "47c22179dc0342528d51b3fcdcd7d482",
       "version_major": 2,
       "version_minor": 0
      },
      "text/plain": [
       "VBox()"
      ]
     },
     "metadata": {},
     "output_type": "display_data"
    },
    {
     "data": {
      "application/vnd.jupyter.widget-view+json": {
       "model_id": "",
       "version_major": 2,
       "version_minor": 0
      },
      "text/plain": [
       "FloatProgress(value=0.0, bar_style='info', description='Progress:', layout=Layout(height='25px', width='50%'),…"
      ]
     },
     "metadata": {},
     "output_type": "display_data"
    }
   ],
   "source": [
    "user_log = user_log.drop(\"auth\", \"firstName\", \"lastName\")"
   ]
  },
  {
   "cell_type": "code",
   "execution_count": 14,
   "id": "7cd30055",
   "metadata": {},
   "outputs": [
    {
     "data": {
      "application/vnd.jupyter.widget-view+json": {
       "model_id": "6e02901c1cd144998dc2d16f68538014",
       "version_major": 2,
       "version_minor": 0
      },
      "text/plain": [
       "VBox()"
      ]
     },
     "metadata": {},
     "output_type": "display_data"
    },
    {
     "data": {
      "application/vnd.jupyter.widget-view+json": {
       "model_id": "",
       "version_major": 2,
       "version_minor": 0
      },
      "text/plain": [
       "FloatProgress(value=0.0, bar_style='info', description='Progress:', layout=Layout(height='25px', width='50%'),…"
      ]
     },
     "metadata": {},
     "output_type": "display_data"
    }
   ],
   "source": [
    "# Filter rows with regex (find rows that match expression)\n",
    "#user_log = user_log.withColumn('artist', regexp_replace('artist', r'[^0-9a-zA-Z]', ' '))\n",
    "user_log = user_log.withColumn('userAgent', regexp_replace('userAgent', r'[^a-zA-Z]', ' '))\n",
    "user_log = user_log.withColumn('userAgent', trim(lower(regexp_replace('userAgent', r'\\s+', ' '))))\n",
    "user_log = user_log.withColumn('userAgent', regexp_replace('userAgent', r'\\s[a-z]\\s', ' '))"
   ]
  },
  {
   "cell_type": "code",
   "execution_count": 15,
   "id": "fdcf9cff",
   "metadata": {},
   "outputs": [
    {
     "data": {
      "application/vnd.jupyter.widget-view+json": {
       "model_id": "5d633f78d67544eb8baecd5debe28c6d",
       "version_major": 2,
       "version_minor": 0
      },
      "text/plain": [
       "VBox()"
      ]
     },
     "metadata": {},
     "output_type": "display_data"
    },
    {
     "data": {
      "application/vnd.jupyter.widget-view+json": {
       "model_id": "",
       "version_major": 2,
       "version_minor": 0
      },
      "text/plain": [
       "FloatProgress(value=0.0, bar_style='info', description='Progress:', layout=Layout(height='25px', width='50%'),…"
      ]
     },
     "metadata": {},
     "output_type": "display_data"
    }
   ],
   "source": [
    "user_log = user_log.na.fill(value=\"Unknown\",subset=[\"userAgent\"])\n",
    "user_log = user_log.na.fill(value=\"Unknown\",subset=[\"gender\"])"
   ]
  },
  {
   "cell_type": "code",
   "execution_count": 16,
   "id": "361d195d",
   "metadata": {},
   "outputs": [
    {
     "data": {
      "application/vnd.jupyter.widget-view+json": {
       "model_id": "f92577c7fd24426b842a07b0ed900e11",
       "version_major": 2,
       "version_minor": 0
      },
      "text/plain": [
       "VBox()"
      ]
     },
     "metadata": {},
     "output_type": "display_data"
    },
    {
     "data": {
      "application/vnd.jupyter.widget-view+json": {
       "model_id": "",
       "version_major": 2,
       "version_minor": 0
      },
      "text/plain": [
       "FloatProgress(value=0.0, bar_style='info', description='Progress:', layout=Layout(height='25px', width='50%'),…"
      ]
     },
     "metadata": {},
     "output_type": "display_data"
    }
   ],
   "source": [
    "#user_log.select([count(when(col(c) == \"\", c).when(isnull(c), c)).alias(c) for c in user_log.columns]).show()"
   ]
  },
  {
   "cell_type": "code",
   "execution_count": 17,
   "id": "d3500edd",
   "metadata": {},
   "outputs": [
    {
     "data": {
      "application/vnd.jupyter.widget-view+json": {
       "model_id": "64915264b23e470eb3f00ed48e8fbeaa",
       "version_major": 2,
       "version_minor": 0
      },
      "text/plain": [
       "VBox()"
      ]
     },
     "metadata": {},
     "output_type": "display_data"
    },
    {
     "data": {
      "application/vnd.jupyter.widget-view+json": {
       "model_id": "",
       "version_major": 2,
       "version_minor": 0
      },
      "text/plain": [
       "FloatProgress(value=0.0, bar_style='info', description='Progress:', layout=Layout(height='25px', width='50%'),…"
      ]
     },
     "metadata": {},
     "output_type": "display_data"
    }
   ],
   "source": [
    "# Keep a copy of the original column list for convenience\n",
    "original_col_list = list(user_log.columns)\n",
    "\n",
    "## One hot encode column variables\n",
    "\n",
    "# Create string index for each column to be encoded\n",
    "onehot_cols = ['gender', 'level', 'method', 'userAgent', 'page', 'status']\n",
    "indexers = [\n",
    "    StringIndexer(inputCol=column, outputCol=column+\"_indexed\")\n",
    "    for column in onehot_cols\n",
    "]\n",
    "\n",
    "# Use the index column to prepare the one-hot encoder\n",
    "encoders = [\n",
    "    OneHotEncoder(\n",
    "        inputCol=indexer.getOutputCol(),\n",
    "        outputCol=indexer.getOutputCol()+\"_encoded\",\n",
    "        dropLast=False\n",
    "    ) \n",
    "    for indexer in indexers\n",
    "]\n",
    "\n",
    "# Generate a vector of encoded values using VectorAssembler for\n",
    "# each row\n",
    "assembler = [VectorAssembler(\n",
    "    inputCols=[encoder.getOutputCol() for encoder in encoders],\n",
    "    outputCol=\"onehot_features\"\n",
    ")]\n",
    "\n",
    "# Run the string index, encoder, and assembler as a Pipeline,\n",
    "# save the output back to the spark dataframe\n",
    "onehot_pipeline = Pipeline(stages=indexers + encoders + assembler)\n",
    "onehot_pipeline = onehot_pipeline.fit(user_log)\n",
    "user_log = onehot_pipeline.transform(user_log)"
   ]
  },
  {
   "cell_type": "code",
   "execution_count": 18,
   "id": "34aa7522",
   "metadata": {},
   "outputs": [
    {
     "data": {
      "application/vnd.jupyter.widget-view+json": {
       "model_id": "f59b9cdda45c4ddb8998d7c03870bb47",
       "version_major": 2,
       "version_minor": 0
      },
      "text/plain": [
       "VBox()"
      ]
     },
     "metadata": {},
     "output_type": "display_data"
    },
    {
     "data": {
      "application/vnd.jupyter.widget-view+json": {
       "model_id": "",
       "version_major": 2,
       "version_minor": 0
      },
      "text/plain": [
       "FloatProgress(value=0.0, bar_style='info', description='Progress:', layout=Layout(height='25px', width='50%'),…"
      ]
     },
     "metadata": {},
     "output_type": "display_data"
    }
   ],
   "source": [
    "# Generate the list of column names for convenience later (using\n",
    "# VectorAssembler, the column names are not saved to the dataframe\n",
    "# and need to be recovered)\n",
    "#\n",
    "# userAgent is renamed here because each value is a really long string\n",
    "# and this makes the column name more convenient\n",
    "expanded_oh_names = []\n",
    "for i, column in enumerate(onehot_cols):\n",
    "    for j, label in enumerate(onehot_pipeline.stages[i].labels):\n",
    "        if column == 'userAgent':\n",
    "            expanded_oh_names.append(column + '_' + str(j))\n",
    "        else:\n",
    "            expanded_oh_names.append(column + '_' + label)\n",
    "\n",
    "# Generate list of columns to keep in the dataframe. For most purposes,\n",
    "# this would be a list of the columns that were not encoded.\n",
    "# If any of the columns in the list are one-hot encoded, this list\n",
    "# will keep the original, non-encoded column in the dataframe\n",
    "no_hot_cols = [c for c in original_col_list if c not in onehot_cols]\n",
    "\n",
    "# create a new, expanded column list.\n",
    "all_cols = no_hot_cols + expanded_oh_names\n",
    "\n",
    "def extract(row, column_list):\n",
    "    '''\n",
    "    For each row, extract the one-hot values in the row vector (from\n",
    "    VectorAssembler), along with any columns listed in column_list.\n",
    "    \n",
    "    Returns a tuple of values.\n",
    "    '''\n",
    "    col_tup = tuple(row[column] for column in column_list)\n",
    "    return col_tup + tuple(row.onehot_features.toArray().tolist())\n",
    "\n",
    "user_log = user_log.rdd.map(partial(extract, column_list=no_hot_cols)).toDF(all_cols)"
   ]
  },
  {
   "cell_type": "code",
   "execution_count": 19,
   "id": "579137d4",
   "metadata": {},
   "outputs": [
    {
     "data": {
      "application/vnd.jupyter.widget-view+json": {
       "model_id": "a9e02654f6a14a09b88bbd8ee818a9c3",
       "version_major": 2,
       "version_minor": 0
      },
      "text/plain": [
       "VBox()"
      ]
     },
     "metadata": {},
     "output_type": "display_data"
    },
    {
     "data": {
      "application/vnd.jupyter.widget-view+json": {
       "model_id": "",
       "version_major": 2,
       "version_minor": 0
      },
      "text/plain": [
       "FloatProgress(value=0.0, bar_style='info', description='Progress:', layout=Layout(height='25px', width='50%'),…"
      ]
     },
     "metadata": {},
     "output_type": "display_data"
    }
   ],
   "source": [
    "# ### Step 3: Define Churn and Explore\n",
    "\n",
    "user_log = user_log.withColumnRenamed('page_Cancellation Confirmation', 'cancelled')"
   ]
  },
  {
   "cell_type": "code",
   "execution_count": 20,
   "id": "f4e39282",
   "metadata": {},
   "outputs": [
    {
     "data": {
      "application/vnd.jupyter.widget-view+json": {
       "model_id": "2fa7e09afd4e4d93b04696f50af47829",
       "version_major": 2,
       "version_minor": 0
      },
      "text/plain": [
       "VBox()"
      ]
     },
     "metadata": {},
     "output_type": "display_data"
    },
    {
     "data": {
      "application/vnd.jupyter.widget-view+json": {
       "model_id": "",
       "version_major": 2,
       "version_minor": 0
      },
      "text/plain": [
       "FloatProgress(value=0.0, bar_style='info', description='Progress:', layout=Layout(height='25px', width='50%'),…"
      ]
     },
     "metadata": {},
     "output_type": "display_data"
    }
   ],
   "source": [
    "# ### Step 4: Feature Engineering\n",
    "\n",
    "# generate the arbitrary list of userAgent column names for passing\n",
    "# to the SqlFeatureEngineer class\n",
    "agents = [name for name in expanded_oh_names if \"userAgent\" in name]\n",
    "\n",
    "table_name = 'user_log_temp'\n",
    "user_summary = SqlFeatureEngineer(table_name, agents).transform(user_log)"
   ]
  },
  {
   "cell_type": "code",
   "execution_count": 21,
   "id": "310781a7",
   "metadata": {
    "scrolled": false
   },
   "outputs": [
    {
     "data": {
      "application/vnd.jupyter.widget-view+json": {
       "model_id": "8afb129a5a95482eaf8e678b0df57739",
       "version_major": 2,
       "version_minor": 0
      },
      "text/plain": [
       "VBox()"
      ]
     },
     "metadata": {},
     "output_type": "display_data"
    },
    {
     "data": {
      "application/vnd.jupyter.widget-view+json": {
       "model_id": "",
       "version_major": 2,
       "version_minor": 0
      },
      "text/plain": [
       "FloatProgress(value=0.0, bar_style='info', description='Progress:', layout=Layout(height='25px', width='50%'),…"
      ]
     },
     "metadata": {},
     "output_type": "display_data"
    }
   ],
   "source": [
    "# create a list of columns to min-max scale. Make sure to exclude\n",
    "# the userId column and the target variable\n",
    "columns_to_scale = [column for column in user_summary.columns if column != 'userId' and column != 'cancelled']\n",
    "\n",
    "# min-max scaler\n",
    "assembler = VectorAssembler(inputCols=columns_to_scale, outputCol=\"features\")\n",
    "transformed = assembler.transform(user_summary)\n",
    "scaler = MinMaxScaler(inputCol=\"features\", outputCol=\"scaledFeatures\")\n",
    "scalerModel =  scaler.fit(transformed.select(\"features\"))\n",
    "user_scaled = scalerModel.transform(transformed)"
   ]
  },
  {
   "cell_type": "code",
   "execution_count": 22,
   "id": "d355e763",
   "metadata": {
    "scrolled": true
   },
   "outputs": [
    {
     "data": {
      "application/vnd.jupyter.widget-view+json": {
       "model_id": "b361d752ea5243ae8a7a8f1b5304bdad",
       "version_major": 2,
       "version_minor": 0
      },
      "text/plain": [
       "VBox()"
      ]
     },
     "metadata": {},
     "output_type": "display_data"
    },
    {
     "data": {
      "application/vnd.jupyter.widget-view+json": {
       "model_id": "",
       "version_major": 2,
       "version_minor": 0
      },
      "text/plain": [
       "FloatProgress(value=0.0, bar_style='info', description='Progress:', layout=Layout(height='25px', width='50%'),…"
      ]
     },
     "metadata": {},
     "output_type": "display_data"
    }
   ],
   "source": [
    "#user_summary.where(reduce(lambda x, y: x | y, (col(x).isNull() for x in user_summary.columns))).show()"
   ]
  },
  {
   "cell_type": "code",
   "execution_count": 23,
   "id": "3a8d155d",
   "metadata": {
    "scrolled": true
   },
   "outputs": [
    {
     "data": {
      "application/vnd.jupyter.widget-view+json": {
       "model_id": "b0f2b8037e634d37a12d100148eef8c8",
       "version_major": 2,
       "version_minor": 0
      },
      "text/plain": [
       "VBox()"
      ]
     },
     "metadata": {},
     "output_type": "display_data"
    },
    {
     "data": {
      "application/vnd.jupyter.widget-view+json": {
       "model_id": "",
       "version_major": 2,
       "version_minor": 0
      },
      "text/plain": [
       "FloatProgress(value=0.0, bar_style='info', description='Progress:', layout=Layout(height='25px', width='50%'),…"
      ]
     },
     "metadata": {},
     "output_type": "display_data"
    }
   ],
   "source": [
    "#user_log.filter(col('userId') == '1145574').filter(col('length').isNull()).show()"
   ]
  },
  {
   "cell_type": "code",
   "execution_count": 24,
   "id": "c12be379",
   "metadata": {
    "scrolled": true
   },
   "outputs": [
    {
     "data": {
      "application/vnd.jupyter.widget-view+json": {
       "model_id": "e9cc3dbf8e424763beb5992c7551dbcf",
       "version_major": 2,
       "version_minor": 0
      },
      "text/plain": [
       "VBox()"
      ]
     },
     "metadata": {},
     "output_type": "display_data"
    },
    {
     "data": {
      "application/vnd.jupyter.widget-view+json": {
       "model_id": "",
       "version_major": 2,
       "version_minor": 0
      },
      "text/plain": [
       "FloatProgress(value=0.0, bar_style='info', description='Progress:', layout=Layout(height='25px', width='50%'),…"
      ]
     },
     "metadata": {},
     "output_type": "display_data"
    }
   ],
   "source": [
    "#user_summary.select([count(when(isnull(c), c)).alias(c) for c in user_summary.columns]).show()"
   ]
  },
  {
   "cell_type": "code",
   "execution_count": 25,
   "id": "3c2b7148",
   "metadata": {},
   "outputs": [
    {
     "data": {
      "application/vnd.jupyter.widget-view+json": {
       "model_id": "10606648d5f74369bd0da6d71677f338",
       "version_major": 2,
       "version_minor": 0
      },
      "text/plain": [
       "VBox()"
      ]
     },
     "metadata": {},
     "output_type": "display_data"
    },
    {
     "data": {
      "application/vnd.jupyter.widget-view+json": {
       "model_id": "",
       "version_major": 2,
       "version_minor": 0
      },
      "text/plain": [
       "FloatProgress(value=0.0, bar_style='info', description='Progress:', layout=Layout(height='25px', width='50%'),…"
      ]
     },
     "metadata": {},
     "output_type": "display_data"
    }
   ],
   "source": [
    "# ### Step 5: Modeling\n",
    "\n",
    "# drop userId\n",
    "user_scaled = user_scaled.drop('userId')\n",
    "user_log = []\n",
    "user_summary = []\n",
    "\n",
    "# Split into training and test data\n",
    "(trainingData, testData) = user_scaled.randomSplit([0.75, 0.25], seed=42)"
   ]
  },
  {
   "cell_type": "code",
   "execution_count": 26,
   "id": "44b7cf4c",
   "metadata": {},
   "outputs": [
    {
     "data": {
      "application/vnd.jupyter.widget-view+json": {
       "model_id": "893196d7f3094db9b1e1f3e488ebcc7e",
       "version_major": 2,
       "version_minor": 0
      },
      "text/plain": [
       "VBox()"
      ]
     },
     "metadata": {},
     "output_type": "display_data"
    },
    {
     "data": {
      "application/vnd.jupyter.widget-view+json": {
       "model_id": "",
       "version_major": 2,
       "version_minor": 0
      },
      "text/plain": [
       "FloatProgress(value=0.0, bar_style='info', description='Progress:', layout=Layout(height='25px', width='50%'),…"
      ]
     },
     "metadata": {},
     "output_type": "display_data"
    }
   ],
   "source": [
    "# Check base rate\n",
    "#trainingData.select(mean(trainingData.cancelled)).show()\n",
    "#testData.select(mean(testData.cancelled)).show()"
   ]
  },
  {
   "cell_type": "code",
   "execution_count": null,
   "id": "0dc4bdcf",
   "metadata": {
    "scrolled": false
   },
   "outputs": [
    {
     "data": {
      "application/vnd.jupyter.widget-view+json": {
       "model_id": "cf04d846458a43c884728b69b5004721",
       "version_major": 2,
       "version_minor": 0
      },
      "text/plain": [
       "VBox()"
      ]
     },
     "metadata": {},
     "output_type": "display_data"
    },
    {
     "data": {
      "application/vnd.jupyter.widget-view+json": {
       "model_id": "bba43d7c7b8e47599b0db754911b852e",
       "version_major": 2,
       "version_minor": 0
      },
      "text/plain": [
       "FloatProgress(value=0.0, bar_style='info', description='Progress:', layout=Layout(height='25px', width='50%'),…"
      ]
     },
     "metadata": {},
     "output_type": "display_data"
    }
   ],
   "source": [
    "# Grid Search\n",
    "logreg = LogisticRegression(labelCol=\"cancelled\", featuresCol=\"scaledFeatures\",\n",
    "                            maxIter=100, regParam=0.01, elasticNetParam=0.5)\n",
    "evaluator = MulticlassClassificationEvaluator(\n",
    "  labelCol=\"cancelled\", predictionCol=\"prediction\",\n",
    "  metricName=\"f1\")\n",
    "\n",
    "pipeline_lr = Pipeline(stages=[logreg])\n",
    "\n",
    "paramGrid_lr = ParamGridBuilder().addGrid(logreg.elasticNetParam, [0, 0.33, 0.66, 1]).addGrid(logreg.regParam, [0.001, 0.01, 0.1]).build()\n",
    "crossval_lr = CrossValidator(estimator=logreg,\n",
    "                             estimatorParamMaps=paramGrid_lr,\n",
    "                             evaluator=evaluator,\n",
    "                             numFolds=3)\n",
    "\n",
    "cvLRModel = crossval_lr.fit(trainingData)\n",
    "bestLRModel = cvLRModel.bestModel"
   ]
  },
  {
   "cell_type": "code",
   "execution_count": null,
   "id": "f4b03a32",
   "metadata": {},
   "outputs": [],
   "source": [
    "predictions_lr = bestLRModel.transform(testData)\n",
    "\n",
    "f1_lr = evaluator.evaluate(predictions_lr)\n",
    "acc_lr = evaluator.setMetricName(\"accuracy\").evaluate(predictions_lr)\n",
    "\n",
    "print(\"LogReg Test Error = %g -- F1: %g\" % (1.0 - acc_lr, f1_lr))"
   ]
  },
  {
   "cell_type": "code",
   "execution_count": null,
   "id": "95f06e7c",
   "metadata": {},
   "outputs": [],
   "source": [
    "coef = pd.DataFrame(list(bestLRModel.coefficients),\n",
    "                    index=columns_to_scale,\n",
    "                    columns=[\"Coefficients\"])\n",
    "coef['Abs. Value Coefficients'] = np.abs(coef['Coefficients'])\n",
    "print(\"\\n\\n\", coef.sort_values(['Abs. Value Coefficients'], ascending=False))"
   ]
  },
  {
   "cell_type": "code",
   "execution_count": null,
   "id": "24dace52",
   "metadata": {
    "scrolled": true
   },
   "outputs": [],
   "source": [
    "sorted_coef = coef.sort_values(['Abs. Value Coefficients'], ascending=True)\n",
    "sorted_coef['color'] = ['red' if x == -1 else 'blue' for x in np.sign(sorted_coef['Coefficients'])]\n",
    "plt.barh(range(len(sorted_coef.index)), sorted_coef['Abs. Value Coefficients'],\n",
    "         color=sorted_coef['color'])\n",
    "plt.title('Coefficient Rankings')\n",
    "plt.yticks(range(len(sorted_coef.index)), sorted_coef.index)"
   ]
  },
  {
   "cell_type": "code",
   "execution_count": null,
   "id": "f5f9157b",
   "metadata": {},
   "outputs": [],
   "source": []
  }
 ],
 "metadata": {
  "kernelspec": {
   "display_name": "PySpark",
   "language": "",
   "name": "pysparkkernel"
  },
  "language_info": {
   "codemirror_mode": {
    "name": "python",
    "version": 2
   },
   "mimetype": "text/x-python",
   "name": "pyspark",
   "pygments_lexer": "python2"
  }
 },
 "nbformat": 4,
 "nbformat_minor": 5
}
